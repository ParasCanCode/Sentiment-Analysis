{
  "nbformat": 4,
  "nbformat_minor": 0,
  "metadata": {
    "colab": {
      "name": "Sentiment-Analysis.ipynb",
      "provenance": [],
      "authorship_tag": "ABX9TyPDM5AjqT0nCjzNHGcLvUJ1",
      "include_colab_link": true
    },
    "kernelspec": {
      "name": "python3",
      "display_name": "Python 3"
    }
  },
  "cells": [
    {
      "cell_type": "markdown",
      "metadata": {
        "id": "view-in-github",
        "colab_type": "text"
      },
      "source": [
        "<a href=\"https://colab.research.google.com/github/ParasCanCode/Sentiment-Analysis/blob/master/Sentiment_Analysis.ipynb\" target=\"_parent\"><img src=\"https://colab.research.google.com/assets/colab-badge.svg\" alt=\"Open In Colab\"/></a>"
      ]
    },
    {
      "cell_type": "code",
      "metadata": {
        "id": "guwmLLWvNxwQ",
        "colab_type": "code",
        "colab": {}
      },
      "source": [
        "#pip install newspaper3k"
      ],
      "execution_count": null,
      "outputs": []
    },
    {
      "cell_type": "code",
      "metadata": {
        "id": "4XyeQWgtOBe0",
        "colab_type": "code",
        "colab": {}
      },
      "source": [
        "#Import libraries\n",
        "from newspaper import Article\n",
        "from textblob import TextBlob\n",
        "import nltk"
      ],
      "execution_count": 2,
      "outputs": []
    },
    {
      "cell_type": "code",
      "metadata": {
        "id": "twRh-oD1OaIa",
        "colab_type": "code",
        "colab": {}
      },
      "source": [
        "#Get the article\n",
        "url=\"https://www.irishtimes.com/\"\n",
        "article = Article(url=url)"
      ],
      "execution_count": 23,
      "outputs": []
    },
    {
      "cell_type": "code",
      "metadata": {
        "id": "8zKg8oJqOk2O",
        "colab_type": "code",
        "colab": {
          "base_uri": "https://localhost:8080/",
          "height": 50
        },
        "outputId": "399e5efd-1d22-4af7-95ec-94f703795b30"
      },
      "source": [
        "#NLP Processing\n",
        "article.download()\n",
        "article.parse()\n",
        "nltk.download('punkt')\n",
        "article.nlp()"
      ],
      "execution_count": 24,
      "outputs": [
        {
          "output_type": "stream",
          "text": [
            "[nltk_data] Downloading package punkt to /root/nltk_data...\n",
            "[nltk_data]   Package punkt is already up-to-date!\n"
          ],
          "name": "stdout"
        }
      ]
    },
    {
      "cell_type": "code",
      "metadata": {
        "id": "pewrASnmO9ow",
        "colab_type": "code",
        "colab": {
          "base_uri": "https://localhost:8080/",
          "height": 54
        },
        "outputId": "83ca384f-3026-47d2-eab6-496092d96f3a"
      },
      "source": [
        "text = article.summary\n",
        "print(text)"
      ],
      "execution_count": 28,
      "outputs": [
        {
          "output_type": "stream",
          "text": [
            "Call for new donors as €5.5 million Innovate Together fund reopens for applicationsRethink Ireland has announced a new round of its Innovate Together Fund, designed to help people and communities respond to the challenges of Covid-19\n"
          ],
          "name": "stdout"
        }
      ]
    },
    {
      "cell_type": "code",
      "metadata": {
        "id": "l5MYLLsRPcYK",
        "colab_type": "code",
        "colab": {}
      },
      "source": [
        "blob = TextBlob(text=text)\n",
        "res = blob.sentiment.polarity"
      ],
      "execution_count": 29,
      "outputs": []
    },
    {
      "cell_type": "code",
      "metadata": {
        "id": "STeVEje8P2Bd",
        "colab_type": "code",
        "colab": {}
      },
      "source": [
        "res = round(res)"
      ],
      "execution_count": 35,
      "outputs": []
    },
    {
      "cell_type": "code",
      "metadata": {
        "id": "epM58o2zP2v_",
        "colab_type": "code",
        "colab": {
          "base_uri": "https://localhost:8080/",
          "height": 34
        },
        "outputId": "dced7658-da5a-45b4-c490-34d3b191c115"
      },
      "source": [
        "if res > 0:\n",
        "  print(\"Positive\")\n",
        "elif res < 0:\n",
        "  print(\"Negative\")\n",
        "else:\n",
        "  print(\"Neutral\")  "
      ],
      "execution_count": 37,
      "outputs": [
        {
          "output_type": "stream",
          "text": [
            "Neutral\n"
          ],
          "name": "stdout"
        }
      ]
    }
  ]
}